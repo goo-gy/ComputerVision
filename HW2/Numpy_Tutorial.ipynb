{
 "cells": [
  {
   "cell_type": "markdown",
   "metadata": {},
   "source": [
    "# Introduction to Numpy"
   ]
  },
  {
   "cell_type": "markdown",
   "metadata": {},
   "source": [
    "We use a popular python package known as numpy, which allows for fast array data manipulation. Don't know anything about numpy? No problem, this tutorial should walk you through everything you need to know to do most of the assignments in this class.\n",
    "\n",
    "To start, import numpy as follows."
   ]
  },
  {
   "cell_type": "code",
   "execution_count": 1,
   "metadata": {},
   "outputs": [],
   "source": [
    "import numpy as np"
   ]
  },
  {
   "cell_type": "markdown",
   "metadata": {},
   "source": [
    "## Working with Numpy Arrays"
   ]
  },
  {
   "cell_type": "markdown",
   "metadata": {},
   "source": [
    "Numpy uses multidimensional arrays as the core datastructure to store and manipulate values of the same type (Very similar to matrices).\n",
    "\n",
    "To work with a numpy array, use the following:"
   ]
  },
  {
   "cell_type": "code",
   "execution_count": 2,
   "metadata": {},
   "outputs": [
    {
     "name": "stdout",
     "output_type": "stream",
     "text": [
      "x: \n",
      "[[ 0  1  2  3]\n",
      " [ 4  5  6  7]\n",
      " [ 8  9 10 11]]\n",
      "\n",
      "First row of x: [0 1 2 3]\n",
      "The shape of x: (3L, 4L)\n"
     ]
    }
   ],
   "source": [
    "x = np.array([[0, 1, 2, 3], [4, 5, 6, 7], [8, 9, 10, 11]])\n",
    "print(\"x: \\n{}\\n\".format(x))\n",
    "print(\"First row of x: {}\".format(x[0]))\n",
    "print(\"The shape of x: {}\".format(np.shape(x)))"
   ]
  },
  {
   "cell_type": "markdown",
   "metadata": {},
   "source": [
    "### Other Matrices"
   ]
  },
  {
   "cell_type": "markdown",
   "metadata": {},
   "source": [
    "While np.array is useful, there are many ways to generate common matrices. These functions take as input a tuple () that holds the shape of the numpy array to be generated."
   ]
  },
  {
   "cell_type": "code",
   "execution_count": 3,
   "metadata": {},
   "outputs": [
    {
     "name": "stdout",
     "output_type": "stream",
     "text": [
      "Matrix of zeroes of shape (3, 3): \n",
      "[[0. 0. 0.]\n",
      " [0. 0. 0.]\n",
      " [0. 0. 0.]]\n",
      "\n",
      "Matrix of ones of shape (3, 3): \n",
      "[[1. 1. 1.]\n",
      " [1. 1. 1.]\n",
      " [1. 1. 1.]]\n",
      "\n",
      "Random matrix of shape (3, 3): \n",
      "[[0.54011192 0.21949186 0.44769121]\n",
      " [0.66704716 0.96413676 0.15186834]\n",
      " [0.90407785 0.70459047 0.32329915]]\n",
      "\n",
      "Sequence vector of shape (6,), starting from 0: \n",
      "[0 1 2 3 4 5]\n",
      "\n"
     ]
    }
   ],
   "source": [
    "zr = np.zeros((3, 3))\n",
    "print(\"Matrix of zeroes of shape (3, 3): \\n{}\\n\".format(zr))\n",
    "\n",
    "ones = np.ones((3, 3))\n",
    "print(\"Matrix of ones of shape (3, 3): \\n{}\\n\".format(ones))\n",
    "\n",
    "rand = np.random.random((3, 3))\n",
    "print(\"Random matrix of shape (3, 3): \\n{}\\n\".format(rand))\n",
    "\n",
    "seq = np.arange(6)\n",
    "print(\"Sequence vector of shape (6,), starting from 0: \\n{}\\n\".format(seq))"
   ]
  },
  {
   "cell_type": "markdown",
   "metadata": {},
   "source": [
    "## Mathematical Operations"
   ]
  },
  {
   "cell_type": "markdown",
   "metadata": {},
   "source": [
    "There are many built-in mathematical functions to work with matrices that you will find useful in future projects. Here, basic python operations (such as + and -) operate elementwise between a numpy array and a constant OR another array of the **same** shape."
   ]
  },
  {
   "cell_type": "code",
   "execution_count": null,
   "metadata": {},
   "outputs": [],
   "source": [
    "A = np.array([1, 2, 3, 4])\n",
    "B = np.array([5, 6, 7, 8])\n",
    "\n",
    "print(\"A - B (Elementwise Subtraction): \\n{}\\n\".format(A - B))\n",
    "print(\"A * B (Elementwise Multiplication): \\n{}\\n\".format(A * B))\n",
    "print(\"A ** 3 (Elementwise Power): \\n{}\\n\".format(A**3))"
   ]
  },
  {
   "cell_type": "markdown",
   "metadata": {},
   "source": [
    "Another useful function is the np.dot() function. This acts as a dot product function (outputing a scalar) on two 1D vectors, and matrix multiplication if the matrices are 2D or higher."
   ]
  },
  {
   "cell_type": "code",
   "execution_count": null,
   "metadata": {},
   "outputs": [],
   "source": [
    "print(\"Dot Product of A and B: {}\\n\".format(np.dot(A, B)))\n",
    "\n",
    "C = np.array([[1, 2, 3], [4, 5, 6], [7, 8, 9]])\n",
    "D = np.array([[20],[30],[40]])\n",
    "\n",
    "print(\"Shape of C: {}\".format(np.shape(C)))\n",
    "print(\"Shape of D: {}\".format(np.shape(D)))\n",
    "print(\"Matrix Product of C and D: \\n{}\".format(np.dot(C, D)))\n",
    "print(\"Final Shape: {}\\n\".format(np.shape(np.dot(C, D))))"
   ]
  },
  {
   "cell_type": "markdown",
   "metadata": {},
   "source": [
    "You can also transpose a matrix quite easily."
   ]
  },
  {
   "cell_type": "code",
   "execution_count": null,
   "metadata": {},
   "outputs": [],
   "source": [
    "print(\"D: \\n{}\\n\".format(D))\n",
    "print(\"D Transpose: \\n{}\\n\".format(D.T))"
   ]
  },
  {
   "cell_type": "markdown",
   "metadata": {},
   "source": [
    "### Problem 1"
   ]
  },
  {
   "cell_type": "markdown",
   "metadata": {},
   "source": [
    "Given two numpy arrays A with shape (m, n) and B with shape (m, n), calculate: $$AB^TA$$ No loops allowed!"
   ]
  },
  {
   "cell_type": "code",
   "execution_count": null,
   "metadata": {},
   "outputs": [],
   "source": [
    "def prob_one(A, B):\n",
    "    \n",
    "    # Insert Code Here\n",
    "    raise NotImplementedError\n",
    "    "
   ]
  },
  {
   "cell_type": "code",
   "execution_count": null,
   "metadata": {},
   "outputs": [],
   "source": [
    "A = np.array([[1, 3, 5], [2, 4, 6], [1, 1, 1]])\n",
    "B = np.array([[9, 8, 7], [6, 5, 4], [3, 2, 1]])\n",
    "\n",
    "student_sol = prob_one(A, B)\n",
    "official_sol = [[164, 382, 600], [224, 520, 816], [60, 138, 216]]\n",
    "flag = np.allclose(student_sol, official_sol)\n",
    "if flag:\n",
    "    print(\"Your solution is correct: \\n{}\\n\".format(student_sol))\n",
    "    print(\"Good work!\")\n",
    "else:\n",
    "    print(\"Your solution is incorrect: \\n{}\".format(student_sol))"
   ]
  },
  {
   "cell_type": "markdown",
   "metadata": {},
   "source": [
    "### Preexisting Functions"
   ]
  },
  {
   "cell_type": "markdown",
   "metadata": {},
   "source": [
    "There are many more built-in functions in numpy that run operations such as sum, max, and min on the matrices. In addition, you can specify the axis by which you want to apply a specific operation - if no axis is given the operation will be applied on the entire matrix."
   ]
  },
  {
   "cell_type": "code",
   "execution_count": null,
   "metadata": {},
   "outputs": [],
   "source": [
    "print(\"Sum of all elements in C: {}\\n\".format(np.sum(C)))\n",
    "print(\"Max of all elements in C: {}\\n\".format(np.amax(C)))\n",
    "print(\"Min of all elements in C: {}\\n\".format(np.amin(C)))\n",
    "print(\"Sum of columns of C: \\n{}\\n\".format(np.sum(C, axis = 1)))\n",
    "print(\"Max of rows of C: \\n{}\\n\".format(np.amax(C, axis = 0)))"
   ]
  },
  {
   "cell_type": "markdown",
   "metadata": {},
   "source": [
    "## Problem 2"
   ]
  },
  {
   "cell_type": "markdown",
   "metadata": {},
   "source": [
    "Given two matrices A of shape (m, n) and B of shape (m, n), find the index of the smallest element across each row of A and each row of B, and sum all the indices together. The result should be a scalar.\n",
    "\n",
    "Hint: Search the numpy documentation for the \"argmin\" function."
   ]
  },
  {
   "cell_type": "code",
   "execution_count": null,
   "metadata": {},
   "outputs": [],
   "source": [
    "def prob_two(A, B):\n",
    "    \n",
    "    # Insert Code Here\n",
    "    raise NotImplementedError\n",
    "    "
   ]
  },
  {
   "cell_type": "code",
   "execution_count": null,
   "metadata": {},
   "outputs": [],
   "source": [
    "A = np.array([[1, 2, 3], [4, 6, 5], [9, 8, 7]])\n",
    "B = np.array([[0, 3, 5], [2, 3, 1], [5, 3, 9]])\n",
    "\n",
    "student_sol = prob_two(A, B)\n",
    "official_sol = 5\n",
    "flag = np.allclose(student_sol, official_sol)\n",
    "if flag:\n",
    "    print(\"Your solution is correct: \\n{}\\n\".format(student_sol))\n",
    "    print(\"Good work!\")\n",
    "else:\n",
    "    print(\"Your solution is incorrect: \\n{}\".format(student_sol))"
   ]
  },
  {
   "cell_type": "markdown",
   "metadata": {},
   "source": [
    "### Working with array shapes"
   ]
  },
  {
   "cell_type": "markdown",
   "metadata": {},
   "source": [
    "If your numpy array isn't in the correct shape or orientation, numpy offers a slew of functions to make manipulating this fairly simple! The reshape function takes a new shape tuple, and adjusts each dimension to fit the new shape."
   ]
  },
  {
   "cell_type": "code",
   "execution_count": null,
   "metadata": {},
   "outputs": [],
   "source": [
    "A = np.array([1, 3, 5, 7, 9])\n",
    "\n",
    "print(\"A: {}\\n\".format(A))\n",
    "print(\"A, now with shape (5, 1): \\n{}\".format(A.reshape(5, 1)))"
   ]
  },
  {
   "cell_type": "markdown",
   "metadata": {},
   "source": [
    "Multidimensional arrays can also be flattened into 1D variants, where each row is appended to the end of the previous row."
   ]
  },
  {
   "cell_type": "code",
   "execution_count": null,
   "metadata": {},
   "outputs": [],
   "source": [
    "A = np.array([[1, 2, 3], [4, 5, 6], [7, 8, 9]])\n",
    "\n",
    "print(\"A: \\n{}\\n\".format(A))\n",
    "print(\"Flattened representation of A \\n{}\".format(A.flatten()))"
   ]
  },
  {
   "cell_type": "code",
   "execution_count": null,
   "metadata": {},
   "outputs": [],
   "source": []
  },
  {
   "cell_type": "markdown",
   "metadata": {},
   "source": [
    "## Indexing"
   ]
  },
  {
   "cell_type": "markdown",
   "metadata": {},
   "source": [
    "Sometimes, you want to get specific sections or elements from a numpy array. These support indexing just like python lists!"
   ]
  },
  {
   "cell_type": "code",
   "execution_count": null,
   "metadata": {},
   "outputs": [],
   "source": [
    "A = np.array([[0, 1, 2, 3, 4], [5, 6, 7, 8, 9], [10, 11, 12, 13, 14]])\n",
    "\n",
    "print(\"First row of A: {}\".format(A[0]))\n",
    "print(\"First element of first row of A: {}\\n\".format(A[0][0]))"
   ]
  },
  {
   "cell_type": "markdown",
   "metadata": {},
   "source": [
    "For multidimensional arrays, sections can be taken using the following \"colon\" notation."
   ]
  },
  {
   "cell_type": "code",
   "execution_count": null,
   "metadata": {},
   "outputs": [],
   "source": [
    "print(\"First two rows, last two columns of A: \\n{}\\n\".format(A[:2, 3:]))\n",
    "print(\"Last two columns of A: \\n{}\\n\".format(A[:, 3:]))"
   ]
  },
  {
   "cell_type": "markdown",
   "metadata": {},
   "source": [
    "Numpy arrays also support boolean indexing - you can assign values to sections of an array that fulfill a specific condition without having to iterate using loops."
   ]
  },
  {
   "cell_type": "code",
   "execution_count": null,
   "metadata": {},
   "outputs": [],
   "source": [
    "A[A > 6] = 0\n",
    "print(\"All elements that are greater than 6 are now 0: \\n{}\\n\".format(A))"
   ]
  },
  {
   "cell_type": "markdown",
   "metadata": {},
   "source": [
    "## Problem 3"
   ]
  },
  {
   "cell_type": "markdown",
   "metadata": {},
   "source": [
    "Given a matrix A, flatten the last three columns of A and set all negative values to 0."
   ]
  },
  {
   "cell_type": "code",
   "execution_count": null,
   "metadata": {},
   "outputs": [],
   "source": [
    "def prob_three(A):\n",
    "    \n",
    "    # Insert Code Here\n",
    "    raise NotImplementedError"
   ]
  },
  {
   "cell_type": "code",
   "execution_count": null,
   "metadata": {},
   "outputs": [],
   "source": [
    "A = np.array([[1, -2, 3, 4, -5], [-6, -7, -8, -9, -10], [-11, 12, 13, -14, 15]])\n",
    "\n",
    "student_sol = prob_three(A)\n",
    "official_sol = np.array([3, 4, 0, 0, 0, 0, 13, 0, 15])\n",
    "flag = np.allclose(student_sol, official_sol)\n",
    "if flag:\n",
    "    print(\"Your solution is correct: \\n{}\\n\".format(student_sol))\n",
    "    print(\"Good work!\")\n",
    "else:\n",
    "    print(\"Your solution is incorrect: \\n{}\".format(student_sol))"
   ]
  },
  {
   "cell_type": "code",
   "execution_count": null,
   "metadata": {},
   "outputs": [],
   "source": []
  }
 ],
 "metadata": {
  "kernelspec": {
   "display_name": "Python 2",
   "language": "python",
   "name": "python2"
  },
  "language_info": {
   "codemirror_mode": {
    "name": "ipython",
    "version": 2
   },
   "file_extension": ".py",
   "mimetype": "text/x-python",
   "name": "python",
   "nbconvert_exporter": "python",
   "pygments_lexer": "ipython2",
   "version": "2.7.16"
  }
 },
 "nbformat": 4,
 "nbformat_minor": 2
}
